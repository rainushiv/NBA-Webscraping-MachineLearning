{
 "cells": [
  {
   "cell_type": "code",
   "execution_count": 1,
   "id": "f7cea7b2-251e-44d3-b0f5-09aaaa4ac966",
   "metadata": {},
   "outputs": [],
   "source": [
    "import os\n",
    "from bs4 import BeautifulSoup\n",
    "from playwright.async_api import async_playwright, TimeoutError as PlaywrightTimeout\n",
    "import time"
   ]
  },
  {
   "cell_type": "code",
   "execution_count": 2,
   "id": "07fc726e-5053-4cb8-ae94-9168c2954e90",
   "metadata": {},
   "outputs": [],
   "source": [
    "SEASONS = list(range(2016,2023))"
   ]
  },
  {
   "cell_type": "code",
   "execution_count": 3,
   "id": "1f682d8b-f066-4913-847e-141f3fa521c2",
   "metadata": {},
   "outputs": [
    {
     "data": {
      "text/plain": [
       "[2016, 2017, 2018, 2019, 2020, 2021, 2022]"
      ]
     },
     "execution_count": 3,
     "metadata": {},
     "output_type": "execute_result"
    }
   ],
   "source": [
    "SEASONS"
   ]
  },
  {
   "cell_type": "code",
   "execution_count": 76,
   "id": "1d7cb6ce-a5d6-4cfc-985c-ee9fd8377692",
   "metadata": {},
   "outputs": [],
   "source": [
    "DATA_DIR = \"data\"\n",
    "STANDINGS_DIR = os.path.join(DATA_DIR,\"standings\")\n",
    "SCORES_DIR = os.path.join(DATA_DIR,\"scores\")"
   ]
  },
  {
   "cell_type": "code",
   "execution_count": 71,
   "id": "eb72e23e-847a-4149-8981-b8189a3f9438",
   "metadata": {},
   "outputs": [],
   "source": [
    "async def get_html(url, selector, sleep=5, retries=3):\n",
    "    html = None\n",
    "    for i in range(1, retries+1):\n",
    "        time.sleep(sleep * i)\n",
    "        try:\n",
    "            async with async_playwright() as p:\n",
    "                browser = await p.firefox.launch()\n",
    "                page = await browser.new_page()\n",
    "                await page.goto(url)\n",
    "                print(await page.title())\n",
    "                html = await page.inner_html(selector)\n",
    "        except PlaywrightTimeout:\n",
    "            print(f\"Timeout error on {url}\")\n",
    "            continue\n",
    "        else:\n",
    "            break\n",
    "    return html\n",
    "    "
   ]
  },
  {
   "cell_type": "code",
   "execution_count": 59,
   "id": "5c7b4f66-8ced-49d7-8eb7-3f9d28ff9789",
   "metadata": {},
   "outputs": [
    {
     "name": "stdout",
     "output_type": "stream",
     "text": [
      "2015-16 NBA Schedule | Basketball-Reference.com\n"
     ]
    }
   ],
   "source": [
    "url = f\"https://www.basketball-reference.com/leagues/NBA_{season}_games.html\"\n",
    "html = await get_html(url,\"#content .filter\")"
   ]
  },
  {
   "cell_type": "code",
   "execution_count": 74,
   "id": "449d42a2-3dd8-4780-91ec-43860a028455",
   "metadata": {},
   "outputs": [],
   "source": [
    "async def scrape_season(season):\n",
    "    url = f\"https://www.basketball-reference.com/leagues/NBA_{season}_games.html\"\n",
    "    html = await get_html(url, \"#content .filter\")\n",
    "    \n",
    "    soup = BeautifulSoup(html)\n",
    "    links = soup.find_all(\"a\")\n",
    "    standings_pages = [f\"https://www.basketball-reference.com{l['href']}\" for l in links]\n",
    "    \n",
    "    for url in standings_pages:\n",
    "        save_path = os.path.join(STANDINGS_DIR, url.split(\"/\")[-1])\n",
    "        if os.path.exists(save_path):\n",
    "            continue\n",
    "        \n",
    "        html = await get_html(url, \"#all_schedule\")\n",
    "        with open(save_path, \"w+\") as f:\n",
    "            f.write(html)\n",
    "    "
   ]
  },
  {
   "cell_type": "code",
   "execution_count": 83,
   "id": "d5951735-6931-49ea-b4d2-25e7f2f09bef",
   "metadata": {},
   "outputs": [
    {
     "name": "stdout",
     "output_type": "stream",
     "text": [
      "2015-16 NBA Schedule | Basketball-Reference.com\n",
      "2015-16 NBA Schedule | Basketball-Reference.com\n",
      "2015-16 NBA Schedule | Basketball-Reference.com\n",
      "2015-16 NBA Schedule | Basketball-Reference.com\n",
      "2015-16 NBA Schedule | Basketball-Reference.com\n",
      "2015-16 NBA Schedule | Basketball-Reference.com\n",
      "2015-16 NBA Schedule | Basketball-Reference.com\n",
      "2015-16 NBA Schedule | Basketball-Reference.com\n",
      "2015-16 NBA Schedule | Basketball-Reference.com\n",
      "2015-16 NBA Schedule | Basketball-Reference.com\n",
      "2016-17 NBA Schedule | Basketball-Reference.com\n",
      "2016-17 NBA Schedule | Basketball-Reference.com\n",
      "2016-17 NBA Schedule | Basketball-Reference.com\n",
      "2016-17 NBA Schedule | Basketball-Reference.com\n",
      "2016-17 NBA Schedule | Basketball-Reference.com\n",
      "2016-17 NBA Schedule | Basketball-Reference.com\n",
      "2016-17 NBA Schedule | Basketball-Reference.com\n",
      "2016-17 NBA Schedule | Basketball-Reference.com\n",
      "2016-17 NBA Schedule | Basketball-Reference.com\n",
      "2016-17 NBA Schedule | Basketball-Reference.com\n",
      "2017-18 NBA Schedule | Basketball-Reference.com\n",
      "2017-18 NBA Schedule | Basketball-Reference.com\n",
      "2017-18 NBA Schedule | Basketball-Reference.com\n",
      "2017-18 NBA Schedule | Basketball-Reference.com\n",
      "2017-18 NBA Schedule | Basketball-Reference.com\n",
      "2017-18 NBA Schedule | Basketball-Reference.com\n",
      "2017-18 NBA Schedule | Basketball-Reference.com\n",
      "2017-18 NBA Schedule | Basketball-Reference.com\n",
      "2017-18 NBA Schedule | Basketball-Reference.com\n",
      "2017-18 NBA Schedule | Basketball-Reference.com\n",
      "2018-19 NBA Schedule | Basketball-Reference.com\n",
      "2018-19 NBA Schedule | Basketball-Reference.com\n",
      "2018-19 NBA Schedule | Basketball-Reference.com\n",
      "2018-19 NBA Schedule | Basketball-Reference.com\n",
      "2018-19 NBA Schedule | Basketball-Reference.com\n",
      "2018-19 NBA Schedule | Basketball-Reference.com\n",
      "2018-19 NBA Schedule | Basketball-Reference.com\n",
      "2018-19 NBA Schedule | Basketball-Reference.com\n",
      "2018-19 NBA Schedule | Basketball-Reference.com\n",
      "2018-19 NBA Schedule | Basketball-Reference.com\n",
      "2019-20 NBA Schedule | Basketball-Reference.com\n",
      "2019-20 NBA Schedule | Basketball-Reference.com\n",
      "2019-20 NBA Schedule | Basketball-Reference.com\n",
      "2019-20 NBA Schedule | Basketball-Reference.com\n",
      "2019-20 NBA Schedule | Basketball-Reference.com\n",
      "2019-20 NBA Schedule | Basketball-Reference.com\n",
      "2019-20 NBA Schedule | Basketball-Reference.com\n",
      "2019-20 NBA Schedule | Basketball-Reference.com\n",
      "2019-20 NBA Schedule | Basketball-Reference.com\n",
      "2019-20 NBA Schedule | Basketball-Reference.com\n",
      "2019-20 NBA Schedule | Basketball-Reference.com\n",
      "2020-21 NBA Schedule | Basketball-Reference.com\n",
      "2020-21 NBA Schedule | Basketball-Reference.com\n",
      "2020-21 NBA Schedule | Basketball-Reference.com\n",
      "2020-21 NBA Schedule | Basketball-Reference.com\n",
      "2020-21 NBA Schedule | Basketball-Reference.com\n",
      "2020-21 NBA Schedule | Basketball-Reference.com\n",
      "2020-21 NBA Schedule | Basketball-Reference.com\n",
      "2020-21 NBA Schedule | Basketball-Reference.com\n",
      "2020-21 NBA Schedule | Basketball-Reference.com\n",
      "2021-22 NBA Schedule | Basketball-Reference.com\n",
      "2021-22 NBA Schedule | Basketball-Reference.com\n",
      "2021-22 NBA Schedule | Basketball-Reference.com\n",
      "2021-22 NBA Schedule | Basketball-Reference.com\n",
      "2021-22 NBA Schedule | Basketball-Reference.com\n",
      "2021-22 NBA Schedule | Basketball-Reference.com\n",
      "2021-22 NBA Schedule | Basketball-Reference.com\n",
      "2021-22 NBA Schedule | Basketball-Reference.com\n",
      "2021-22 NBA Schedule | Basketball-Reference.com\n",
      "2021-22 NBA Schedule | Basketball-Reference.com\n"
     ]
    }
   ],
   "source": [
    "for season in SEASONS:\n",
    "    await scrape_season(season)"
   ]
  },
  {
   "cell_type": "code",
   "execution_count": 91,
   "id": "e70bc44f-739d-4ee2-831c-e39bcfdb1a91",
   "metadata": {},
   "outputs": [],
   "source": [
    "standing_files = os.listdir(STANDINGS_DIR)"
   ]
  },
  {
   "cell_type": "code",
   "execution_count": 92,
   "id": "ed21de05-be46-4661-9341-e065df9f3f31",
   "metadata": {},
   "outputs": [
    {
     "data": {
      "text/plain": [
       "['NBA_2022_games-october.html',\n",
       " 'NBA_2021_games-june.html',\n",
       " 'NBA_2020_games-march.html',\n",
       " 'NBA_2020_games-september.html',\n",
       " 'NBA_2020_games-january.html',\n",
       " 'NBA_2020_games-august.html',\n",
       " 'NBA_2019_games-april.html',\n",
       " 'NBA_2022_games-may.html',\n",
       " 'NBA_2019_games-february.html',\n",
       " 'NBA_2018_games-february.html',\n",
       " 'NBA_2016_games-april.html',\n",
       " 'NBA_2021_games-march.html',\n",
       " 'NBA_2018_games-january.html',\n",
       " 'NBA_2017_games-february.html',\n",
       " 'NBA_2016_games-february.html',\n",
       " 'NBA_2017_games-october.html',\n",
       " 'NBA_2018_games-april.html',\n",
       " 'NBA_2020_games-december.html',\n",
       " 'NBA_2019_games-october.html',\n",
       " 'NBA_2020_games-november.html',\n",
       " 'NBA_2021_games-may.html',\n",
       " 'NBA_2021_games-december.html',\n",
       " 'NBA_2022_games-april.html',\n",
       " 'NBA_2020_games-october-2019.html',\n",
       " 'NBA_2022_games-december.html',\n",
       " 'NBA_2017_games-april.html',\n",
       " 'NBA_2022_games-november.html',\n",
       " 'NBA_2016_games-january.html',\n",
       " 'NBA_2018_games-october.html',\n",
       " 'NBA_2017_games-march.html',\n",
       " 'NBA_2021_games-february.html',\n",
       " 'NBA_2020_games-february.html',\n",
       " 'NBA_2017_games-june.html',\n",
       " 'NBA_2022_games-march.html',\n",
       " 'NBA_2018_games-june.html',\n",
       " 'NBA_2017_games-january.html',\n",
       " 'NBA_2020_games-october-2020.html',\n",
       " 'NBA_2022_games-february.html',\n",
       " 'NBA_2017_games-november.html',\n",
       " 'NBA_2016_games-december.html',\n",
       " 'NBA_2021_games-july.html',\n",
       " 'NBA_2016_games-november.html',\n",
       " 'NBA_2022_games-june.html',\n",
       " 'NBA_2018_games-march.html',\n",
       " 'NBA_2017_games-december.html',\n",
       " 'NBA_2019_games-january.html',\n",
       " 'NBA_2016_games-october.html',\n",
       " 'NBA_2021_games-april.html',\n",
       " 'NBA_2019_games-november.html',\n",
       " 'NBA_2020_games-july.html',\n",
       " 'NBA_2018_games-december.html',\n",
       " 'NBA_2022_games-january.html',\n",
       " 'NBA_2018_games-november.html',\n",
       " 'NBA_2016_games-march.html',\n",
       " 'NBA_2019_games-december.html',\n",
       " 'NBA_2019_games-may.html',\n",
       " 'NBA_2016_games-may.html',\n",
       " 'NBA_2019_games-march.html',\n",
       " 'NBA_2017_games-may.html',\n",
       " 'NBA_2016_games-june.html',\n",
       " 'NBA_2019_games-june.html',\n",
       " 'NBA_2018_games-may.html',\n",
       " 'NBA_2021_games-january.html']"
      ]
     },
     "execution_count": 92,
     "metadata": {},
     "output_type": "execute_result"
    }
   ],
   "source": [
    "standing_files"
   ]
  },
  {
   "cell_type": "code",
   "execution_count": 106,
   "id": "0ece5b94-b006-4151-a69c-2bd816a4295a",
   "metadata": {},
   "outputs": [],
   "source": [
    "async def scrape_game(standings_file):\n",
    "    with open(standings_file,'r') as f:\n",
    "        html = f.read()\n",
    "    soup = BeautifulSoup(html)\n",
    "    links = soup.find_all(\"a\")\n",
    "    hrefs = [l.get(\"href\") for l in links]\n",
    "    box_scores = [l for l in hrefs if l and \"boxscore\" in l and \".html\" in l]\n",
    "    box_scores = [f\"https://www.basketball-reference.com{l}\" for l in box_scores]\n",
    "    \n",
    "    for url in box_scores:\n",
    "        save_path = os.path.join(SCORES_DIR, url.split(\"/\")[-1])\n",
    "        if os.path.exists(save_path):\n",
    "            continue\n",
    "    \n",
    "        html = await get_html(url,\"#content\")\n",
    "        if not html:\n",
    "            continue\n",
    "        with open(save_path, \"w+\") as f:\n",
    "            f.write(html)"
   ]
  },
  {
   "cell_type": "code",
   "execution_count": null,
   "id": "1396db40-20df-490c-8ff2-12dcc0170432",
   "metadata": {},
   "outputs": [
    {
     "name": "stdout",
     "output_type": "stream",
     "text": [
      "Nets vs Bucks, October 19, 2021 | Basketball-Reference.com\n",
      "Warriors vs Lakers, October 19, 2021 | Basketball-Reference.com\n",
      "Timeout error on https://www.basketball-reference.com/boxscores/202110200CHO.html\n",
      "Pacers vs Hornets, October 20, 2021 | Basketball-Reference.com\n",
      "Bulls vs Pistons, October 20, 2021 | Basketball-Reference.com\n",
      "Celtics vs Knicks, October 20, 2021 | Basketball-Reference.com\n",
      "Wizards vs Raptors, October 20, 2021 | Basketball-Reference.com\n",
      "Cavaliers vs Grizzlies, October 20, 2021 | Basketball-Reference.com\n",
      "Rockets vs Timberwolves, October 20, 2021 | Basketball-Reference.com\n",
      "76ers vs Pelicans, October 20, 2021 | Basketball-Reference.com\n",
      "Timeout error on https://www.basketball-reference.com/boxscores/202110200SAS.html\n",
      "Magic vs Spurs, October 20, 2021 | Basketball-Reference.com\n",
      "Thunder vs Jazz, October 20, 2021 | Basketball-Reference.com\n",
      "Kings vs Trail Blazers, October 20, 2021 | Basketball-Reference.com\n",
      "Nuggets vs Suns, October 20, 2021 | Basketball-Reference.com\n",
      "Mavericks vs Hawks, October 21, 2021 | Basketball-Reference.com\n",
      "Bucks vs Heat, October 21, 2021 | Basketball-Reference.com\n",
      "Clippers vs Warriors, October 21, 2021 | Basketball-Reference.com\n",
      "Knicks vs Magic, October 22, 2021 | Basketball-Reference.com\n",
      "Pacers vs Wizards, October 22, 2021 | Basketball-Reference.com\n",
      "Hornets vs Cavaliers, October 22, 2021 | Basketball-Reference.com\n",
      "Raptors vs Celtics, October 22, 2021 | Basketball-Reference.com\n",
      "Nets vs 76ers, October 22, 2021 | Basketball-Reference.com\n",
      "Thunder vs Rockets, October 22, 2021 | Basketball-Reference.com\n",
      "Pelicans vs Bulls, October 22, 2021 | Basketball-Reference.com\n",
      "Spurs vs Nuggets, October 22, 2021 | Basketball-Reference.com\n",
      "Suns vs Lakers, October 22, 2021 | Basketball-Reference.com\n",
      "Jazz vs Kings, October 22, 2021 | Basketball-Reference.com\n",
      "Hawks vs Cavaliers, October 23, 2021 | Basketball-Reference.com\n",
      "Heat vs Pacers, October 23, 2021 | Basketball-Reference.com\n",
      "Mavericks vs Raptors, October 23, 2021 | Basketball-Reference.com\n",
      "Pistons vs Bulls, October 23, 2021 | Basketball-Reference.com\n",
      "Pelicans vs Timberwolves, October 23, 2021 | Basketball-Reference.com\n"
     ]
    }
   ],
   "source": [
    "for f in standing_files:\n",
    "    filepath = os.path.join(STANDINGS_DIR, f)\n",
    "\n",
    "    await scrape_game(filepath)"
   ]
  },
  {
   "cell_type": "code",
   "execution_count": null,
   "id": "37774378-654c-4c40-8fb7-1ec54f8ea8d4",
   "metadata": {},
   "outputs": [],
   "source": []
  },
  {
   "cell_type": "code",
   "execution_count": null,
   "id": "f3f74498-8b5b-4f2a-8c14-08bf1b22a761",
   "metadata": {},
   "outputs": [],
   "source": []
  }
 ],
 "metadata": {
  "kernelspec": {
   "display_name": "Python 3 (ipykernel)",
   "language": "python",
   "name": "python3"
  },
  "language_info": {
   "codemirror_mode": {
    "name": "ipython",
    "version": 3
   },
   "file_extension": ".py",
   "mimetype": "text/x-python",
   "name": "python",
   "nbconvert_exporter": "python",
   "pygments_lexer": "ipython3",
   "version": "3.13.2"
  }
 },
 "nbformat": 4,
 "nbformat_minor": 5
}
